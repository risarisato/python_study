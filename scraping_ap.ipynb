{
 "cells": [
  {
   "cell_type": "code",
   "execution_count": null,
   "metadata": {},
   "outputs": [],
   "source": [
    "# ライブラリーインポート\n",
    "from bs4 import BeautifulSoup\n",
    "import requests\n",
    "import random\n",
    "from time import sleep\n",
    "import pandas as pd\n",
    "import random\n",
    "import time"
   ]
  },
  {
   "cell_type": "code",
   "execution_count": null,
   "metadata": {},
   "outputs": [],
   "source": [
    "# アクセス先のURL\n",
    "## url = 'https://'\n",
    "url"
   ]
  },
  {
   "cell_type": "code",
   "execution_count": null,
   "metadata": {},
   "outputs": [],
   "source": [
    "# html全体を取得\n",
    "requests.get(url)\n",
    "r = requests.get(url)\n",
    "soup = BeautifulSoup(r.text, 'html.parser')\n",
    "# print(soup.prettify())"
   ]
  },
  {
   "cell_type": "code",
   "execution_count": null,
   "metadata": {},
   "outputs": [],
   "source": [
    "# hタグ全体を取得\n",
    "contests = soup.find(class_='h')\n",
    "# contests\n",
    "#<tr class=\"h\"><th colspan=\"4\">\n",
    "# 【テクノロジ系】<tr><td><a href=\"q1.html\">\n",
    "# 問1</a><td>ディープラーニングに関連が深いもの<td>\n",
    "# 情報に関する理論<td>○<tr><td><a href=\"q2.html\">問2</a>…"
   ]
  },
  {
   "cell_type": "code",
   "execution_count": null,
   "metadata": {},
   "outputs": [],
   "source": [
    "# hタグのaタグだけを取得した\n",
    "get_a = contests.find_all(\"a\")\n",
    "# get_a\n",
    "# <a href=\"q1.html\">問1</a>,\n",
    "# <a href=\"q2.html\">問2</a>。。。"
   ]
  },
  {
   "cell_type": "code",
   "execution_count": null,
   "metadata": {},
   "outputs": [],
   "source": [
    "title_links = []\n",
    "for i in range(len(get_a)):\n",
    "    try:\n",
    "        link_ = get_a[i].get(\"href\")\n",
    "        title_links.append(link_)\n",
    "    except:\n",
    "        pass #エラー無視"
   ]
  },
  {
   "cell_type": "code",
   "execution_count": null,
   "metadata": {},
   "outputs": [],
   "source": [
    "# てか、ここでリスト作っておけばいいんじゃない\n",
    "new_url = []\n",
    "\n",
    "for i in range(len(title_links)):\n",
    "    title_link = title_links[i]\n",
    "    ## d = 'https:' + title_link\n",
    "    new_url.append(d)\n",
    "# print(new_url)"
   ]
  },
  {
   "cell_type": "code",
   "execution_count": null,
   "metadata": {},
   "outputs": [],
   "source": [
    "# https:// + q1.htmlの文字列だとうまく行かないので？\n",
    "# 上記をリスト形式してみた\n",
    "\n",
    "bango_lists = []\n",
    "mondai_lists = []\n",
    "sentaku_lists = []\n",
    "kotae_lists = []\n",
    "kaisetu_lists = []\n",
    "burui_lists = []\n",
    "\n",
    "for i in range(len(new_url)):\n",
    "    url = new_url[i]\n",
    "\n",
    "    r = requests.get(url)\n",
    "    time.sleep(3)\n",
    "    soup = BeautifulSoup(r.text, 'html.parser')\n",
    "    # 問題番号\n",
    "    bango_list = soup.find('h3', class_='qno').text\n",
    "    print(bango_list)\n",
    "    bango_lists.append(bango_list)\n",
    "    time.sleep(random.randint(1,5))\n",
    "    # 問題\n",
    "    modai_list = soup.select_one('#mainCol > div.main.kako > div:nth-child(4)').text\n",
    "    print(modai_list)\n",
    "    mondai_lists.append(modai_list)\n",
    "    time.sleep(random.randint(2,4))\n",
    "    # 選択肢\n",
    "    sentaku_list = soup.select_one('#mainCol > div.main.kako > div:nth-child(5) > ul').text\n",
    "    print(sentaku_list)\n",
    "    sentaku_lists.append(sentaku_list)\n",
    "    time.sleep(random.randint(2,5))\n",
    "    # 正解\n",
    "    kotae_list = soup.find('span').text\n",
    "    print(kotae_list)\n",
    "    kotae_lists.append(kotae_list)\n",
    "    time.sleep(random.randint(1,3))\n",
    "    # 解説\n",
    "    kaisetu_list = soup.select_one('#mainCol > div.main.kako > div:nth-child(12)').text\n",
    "    print(kaisetu_list)\n",
    "    kaisetu_lists.append(kaisetu_list)\n",
    "    time.sleep(random.randint(2,4))\n",
    "    # 分類\n",
    "    burui_list = soup.find('p').text\n",
    "    print(burui_list)\n",
    "    burui_lists.append(burui_list)\n",
    "    time.sleep(random.randint(1,2))"
   ]
  },
  {
   "cell_type": "code",
   "execution_count": null,
   "metadata": {},
   "outputs": [],
   "source": [
    "# リストで各項目を取得したあとに、各項目を辞書型にする\n",
    "result = {\n",
    "    '番号' : bango_lists,\n",
    "    '問題' : mondai_lists,\n",
    "    '選択肢' : sentaku_lists,\n",
    "    '正解' : kotae_lists,\n",
    "    '解説' : kaisetu_lists,\n",
    "    '分類' : burui_lists,\n",
    "}"
   ]
  },
  {
   "cell_type": "code",
   "execution_count": null,
   "metadata": {},
   "outputs": [],
   "source": [
    "# 各項目を辞書型にしたものを、dataframeにいれる\n",
    "# ここでまた、リスト形式すると1行で表示されてしまう！\n",
    "\n",
    "df = pd.DataFrame(result)\n",
    "df.shape\n",
    "df.head(5)"
   ]
  },
  {
   "cell_type": "code",
   "execution_count": null,
   "metadata": {},
   "outputs": [],
   "source": [
    "df.to_csv('app_haru_30_02.csv', index = False, encoding='UTF-8-sig')"
   ]
  }
 ],
 "metadata": {
  "interpreter": {
   "hash": "c3a8f15903d0c2845fa089df4c1ffb9f703e000c52b49dee8d6a256097465035"
  },
  "kernelspec": {
   "display_name": "Python 3.8.8 64-bit ('base': conda)",
   "name": "python3"
  },
  "language_info": {
   "codemirror_mode": {
    "name": "ipython",
    "version": 3
   },
   "file_extension": ".py",
   "mimetype": "text/x-python",
   "name": "python",
   "nbconvert_exporter": "python",
   "pygments_lexer": "ipython3",
   "version": "3.8.8"
  },
  "orig_nbformat": 4
 },
 "nbformat": 4,
 "nbformat_minor": 2
}
